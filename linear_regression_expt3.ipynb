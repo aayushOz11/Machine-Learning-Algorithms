{
  "nbformat": 4,
  "nbformat_minor": 0,
  "metadata": {
    "colab": {
      "name": "linear regression_expt3",
      "provenance": [],
      "collapsed_sections": []
    },
    "kernelspec": {
      "name": "python3",
      "display_name": "Python 3"
    },
    "language_info": {
      "name": "python"
    }
  },
  "cells": [
    {
      "cell_type": "markdown",
      "source": [
        "# ML Exp3\n",
        "---------------------\n",
        "\n",
        "* Aayush Malde (1911090)\n",
        "* Aditya Malwade (1911091)\n",
        "* Rahul Panchal (1911097)"
      ],
      "metadata": {
        "id": "c8av4sSg-RgN"
      }
    },
    {
      "cell_type": "markdown",
      "source": [
        "--------------------------------------------------------------------------------"
      ],
      "metadata": {
        "id": "00azm10n_0dA"
      }
    },
    {
      "cell_type": "markdown",
      "source": [
        "#Linear Regression on dummy dataset"
      ],
      "metadata": {
        "id": "EbTBP1U6Cvbj"
      }
    },
    {
      "cell_type": "code",
      "source": [
        "import matplotlib.pyplot as plt\n",
        "import numpy as np \n",
        "import random\n",
        "plt.close('all')\n",
        "np.random.seed(30) # Set seed\n",
        "# Inputs\n",
        "samples = 200\n",
        "# Random samples (Uniformly distributed)\n",
        "U1 = np.random.rand(samples,1) \n",
        "U2 = np.random.rand(samples,1)\n",
        "# Random samples (normally distributed uncorrelated) \n",
        "S1 = np.sqrt(-2*np.log(U1))*np.cos(2*np.pi*U2)\n",
        "S2 = np.sqrt(-2*np.log(U1))*np.sin(2*np.pi*U2)\n",
        "E_S1 = np.mean(S1)\n",
        "Var_S1 = np.mean(S1**2) - E_S1**2\n",
        "sigma_S1 = np.sqrt(Var_S1)\n",
        "E_S2 = np.mean(S2)\n",
        "Var_S2 = np.mean(S2**2) - E_S2**2\n",
        "sigma_S2 = np.sqrt(Var_S2)\n",
        "Cov_S1_S2 = np.mean(S1*S2) - E_S1*E_S2\n",
        "Corr_S1_S2 = Cov_S1_S2/sigma_S1/sigma_S2\n",
        "print('corr(S1,S2) = ' + str(Corr_S1_S2)) \n",
        "# Correlated random samples (ignore this part)\n",
        "mu_x = 0.5\n",
        "mu_y = 0.66\n",
        "sigma_x = 0.85\n",
        "sigma_y = 1.24\n",
        "rho = 0.75\n",
        "\n",
        "X = mu_x + sigma_x * S1    #input\n",
        "Y = mu_y + sigma_y * (rho*S1 + np.sqrt(1-rho**2)*S2) #desired output\n",
        "\n",
        "E_X = np.mean(X)\n",
        "Var_X = np.mean(X**2) - E_X**2\n",
        "sigma_X = np.sqrt(Var_X)\n",
        "E_Y = np.mean(Y)\n",
        "Var_Y = np.mean(Y**2) - E_Y**2\n",
        "sigma_Y = np.sqrt(Var_Y)\n",
        "Cov_X_Y = np.mean(X*Y) - E_X*E_Y\n",
        "Corr_X_Y = Cov_X_Y/sigma_X/sigma_Y\n",
        "print('corr(X,Y) = ' + str(Corr_X_Y))"
      ],
      "metadata": {
        "colab": {
          "base_uri": "https://localhost:8080/"
        },
        "id": "2R8S73YuCugB",
        "outputId": "195dc101-bc39-4e52-bca5-9d303e3a5897"
      },
      "execution_count": null,
      "outputs": [
        {
          "output_type": "stream",
          "name": "stdout",
          "text": [
            "corr(S1,S2) = 0.14183667211624937\n",
            "corr(X,Y) = 0.8194412208323065\n"
          ]
        }
      ]
    },
    {
      "cell_type": "code",
      "source": [
        "# Generate plots\n",
        "plt.subplot(1,1,1)\n",
        "plt.plot(X,Y,linestyle=\"\",marker=\"o\",color=\"#003F72\")\n",
        "plt.xlabel('X', fontsize=16)\n",
        "plt.ylabel('Y', fontsize=16)"
      ],
      "metadata": {
        "colab": {
          "base_uri": "https://localhost:8080/",
          "height": 302
        },
        "id": "pxKG0dyBIxxm",
        "outputId": "a2255b9e-35ff-425b-f434-ab3afd1273d5"
      },
      "execution_count": null,
      "outputs": [
        {
          "output_type": "execute_result",
          "data": {
            "text/plain": [
              "Text(0, 0.5, 'Y')"
            ]
          },
          "metadata": {},
          "execution_count": 2
        },
        {
          "output_type": "display_data",
          "data": {
            "image/png": "[encoded data removed]",
            "text/plain": [
              "<Figure size 432x288 with 1 Axes>"
            ]
          },
          "metadata": {
            "needs_background": "light"
          }
        }
      ]
    },
    {
      "cell_type": "code",
      "source": [
        "w=np.random.random()\n",
        "b=np.random.random()\n",
        "\n",
        "epochs = 1000\n",
        "alpha = 0.003\n",
        "error = []\n",
        "#gradient descent starts\n",
        "for i in range(epochs):\n",
        "  output = w*X + b\n",
        "  mean_sq_error = np.square(np.subtract(Y,output)).mean() #calculating error\n",
        "  error.append(mean_sq_error)\n",
        "\n",
        "  #adjusting weights\n",
        "  weight_derivative = -(2/samples)*sum(X*(Y-output))\n",
        "  bias_derivative = -(2/samples)*sum((Y-output))\n",
        "  w = w - alpha*weight_derivative\n",
        "  b = b - alpha*bias_derivative\n",
        "\n",
        "plt.plot(range(0,epochs),error)\n",
        "plt.xlabel('epochs', fontsize=16)\n",
        "plt.ylabel('error cost', fontsize=16)\n",
        "plt.show()\n",
        "\n",
        "\n"
      ],
      "metadata": {
        "colab": {
          "base_uri": "https://localhost:8080/",
          "height": 284
        },
        "id": "XvOHbDQqLiUr",
        "outputId": "c1a979a2-e728-40f8-fb24-7483b8ae9320"
      },
      "execution_count": null,
      "outputs": [
        {
          "output_type": "display_data",
          "data": {
            "image/png": "[encoded data removed]",
            "text/plain": [
              "<Figure size 432x288 with 1 Axes>"
            ]
          },
          "metadata": {
            "needs_background": "light"
          }
        }
      ]
    },
    {
      "cell_type": "code",
      "source": [
        "regression_line = [(w*x)+b for x in X]\n",
        "plt.scatter(X,Y,color='#003F72')\n",
        "plt.plot(X, regression_line,color='#FF0000')\n",
        "plt.show()"
      ],
      "metadata": {
        "colab": {
          "base_uri": "https://localhost:8080/",
          "height": 265
        },
        "id": "R0agAJXYRsH5",
        "outputId": "db59af71-f86b-463b-e8c6-9471b56f2ba8"
      },
      "execution_count": null,
      "outputs": [
        {
          "output_type": "display_data",
          "data": {
            "image/png": "[encoded data removed]",
            "text/plain": [
              "<Figure size 432x288 with 1 Axes>"
            ]
          },
          "metadata": {
            "needs_background": "light"
          }
        }
      ]
    },
    {
      "cell_type": "markdown",
      "source": [
        "--------------------------------------------------------------------------------"
      ],
      "metadata": {
        "id": "LS8RZBXG_uhB"
      }
    },
    {
      "cell_type": "markdown",
      "source": [
        "#Multi-Variate Linear Regression"
      ],
      "metadata": {
        "id": "Q6yFzANq9p1Y"
      }
    },
    {
      "cell_type": "code",
      "source": [
        "# making a dummy dataset of 200 samples with each sample having 4 attributes\n",
        "x0 = np.ones((samples,1))   #column added for bias\n",
        "x1 = np.random.rand(samples,1)\n",
        "x2 = np.random.randint(1, 6, size=(samples, 1))\n",
        "x3 = np.random.uniform(0.0, 7.5, size=(samples, 1))\n",
        "x4 = np.random.standard_exponential((samples, 1))\n",
        "\n",
        "Y = np.random.rand(samples, 1)   #desired output\n",
        "\n",
        "# print(x0.shape)\n",
        "# print(x1.shape)\n",
        "# print(x2.shape)\n",
        "# print(x3.shape)\n",
        "# print(x4.shape)\n",
        "# print(Y.shape)\n",
        "X=[]\n",
        "X.append(x0)\n",
        "X.append(x1)\n",
        "X.append(x2)\n",
        "X.append(x3)\n",
        "X.append(x4)\n",
        "\n",
        "X=np.squeeze(X) #making a matrix of all the samples and their attributes\n",
        "# print(np.shape(X))\n"
      ],
      "metadata": {
        "id": "0s5_lN66eH8f"
      },
      "execution_count": null,
      "outputs": []
    },
    {
      "cell_type": "code",
      "source": [
        "theta = np.random.random(size=(5, 1))\n",
        "\n",
        "epochs = 1000\n",
        "alpha = 0.003\n",
        "\n",
        "\n",
        "cost=[]\n",
        "for i in range(epochs):\n",
        "  output = np.dot(np.transpose(X),theta)\n",
        "  error = Y - output\n",
        "  cost_calc = np.dot(np.transpose(error),error)/(2*samples) #calculating mean squared error\n",
        "\n",
        "  cost.append(cost_calc)\n",
        "\n",
        "  weight_derivative = -(2/samples)*(np.dot(X,error)) # adjusting weigths according to error\n",
        "  theta = theta - alpha*weight_derivative\n",
        "\n",
        "\n",
        "#Plotting cost vs epochs graph\n",
        "cost=np.squeeze(cost)\n",
        "plt.plot(range(0,epochs),cost)\n",
        "plt.xlabel('epochs', fontsize=16)\n",
        "plt.ylabel('error cost', fontsize=16)\n",
        "plt.show()\n",
        " \n",
        "  \n",
        "  \n"
      ],
      "metadata": {
        "colab": {
          "base_uri": "https://localhost:8080/",
          "height": 284
        },
        "id": "wzEhef2DnwH0",
        "outputId": "a918c00d-69ab-4580-eaef-b23fff9a0216"
      },
      "execution_count": null,
      "outputs": [
        {
          "output_type": "display_data",
          "data": {
            "image/png": "[encoded data removed]",
            "text/plain": [
              "<Figure size 432x288 with 1 Axes>"
            ]
          },
          "metadata": {
            "needs_background": "light"
          }
        }
      ]
    },
    {
      "cell_type": "code",
      "source": [
        "x0 = np.ones((samples,1))   #column added for bias\n",
        "x1 = np.random.rand(samples,1)\n",
        "x2 = np.random.randint(1, 10, size=(samples, 1))\n",
        "# x3 = np.random.uniform(0.0, 1.0, size=(samples, 1))\n",
        "# x4 = np.random.standard_exponential((samples, 1))\n",
        "\n",
        "Y = np.random.rand(samples, 1)   #desired output\n",
        "\n",
        "# print(x0.shape)\n",
        "# print(x1.shape)\n",
        "# print(x2.shape)\n",
        "# print(x3.shape)\n",
        "# print(x4.shape)\n",
        "# print(Y.shape)\n",
        "X=[]\n",
        "X.append(x0)\n",
        "X.append(x1)\n",
        "# X.append(x2)\n",
        "X.append(x3)\n",
        "# X.append(x4)\n",
        "\n",
        "X=np.squeeze(X) #making a matrix of all the samples and their attributes\n",
        "# print(np.shape(X))"
      ],
      "metadata": {
        "id": "Jw3wiTzowA8n"
      },
      "execution_count": null,
      "outputs": []
    },
    {
      "cell_type": "code",
      "source": [
        "#stochastic gradient descent\n",
        "Theta= np.random.random(size=(3, 1))\n",
        "X_trans = np.transpose(X) # 200,5\n",
        "Cost=[]\n",
        "alpha = 0.003\n",
        "for i in range(len(X[1])):\n",
        "  output = np.dot( np.reshape(X_trans[i], (1, 3)),Theta)\n",
        "  Error = Y[i] - output\n",
        "  # print(error)\n",
        "  cost_Calc = Error*Error/2*samples\n",
        "\n",
        "  Cost.append(cost_Calc)\n",
        "  Weight_derivative = np.transpose(Error*X_trans[i])\n",
        "  Theta = Theta - alpha*Weight_derivative \n",
        "\n",
        "#Plotting cost vs epochs graph\n",
        "Cost = np.squeeze(Cost)\n",
        "plt.plot(range(0,len(X[1])),Cost)\n",
        "plt.xlabel('Data Points', fontsize=16)\n",
        "plt.ylabel('error cost', fontsize=16)\n",
        "plt.show()"
      ],
      "metadata": {
        "colab": {
          "base_uri": "https://localhost:8080/",
          "height": 284
        },
        "id": "k73EkYQGgDgh",
        "outputId": "a14b2165-0d15-47b7-8138-e0b40df79eeb"
      },
      "execution_count": null,
      "outputs": [
        {
          "output_type": "display_data",
          "data": {
            "image/png": "[encoded data removed]",
            "text/plain": [
              "<Figure size 432x288 with 1 Axes>"
            ]
          },
          "metadata": {
            "needs_background": "light"
          }
        }
      ]
    },
    {
      "cell_type": "markdown",
      "source": [
        "--------------------------------------------------------------------------------"
      ],
      "metadata": {
        "id": "WJ2quk7dzQ_b"
      }
    },
    {
      "cell_type": "markdown",
      "source": [
        "##Stochastic Gradient Descent"
      ],
      "metadata": {
        "id": "VIexXy-YzNjn"
      }
    },
    {
      "cell_type": "code",
      "source": [
        "from google.colab import drive\n",
        "drive.mount('/content/drive')"
      ],
      "metadata": {
        "colab": {
          "base_uri": "https://localhost:8080/"
        },
        "id": "Yq-YKJPfYxc7",
        "outputId": "2ea97bb9-70cd-4cb0-ee12-66b91b37a5ff"
      },
      "execution_count": null,
      "outputs": [
        {
          "output_type": "stream",
          "name": "stdout",
          "text": [
            "Mounted at /content/drive\n"
          ]
        }
      ]
    },
    {
      "cell_type": "markdown",
      "source": [
        "#Linear Regression using SciKitLearn library"
      ],
      "metadata": {
        "id": "mbHV2CCB_jyV"
      }
    },
    {
      "cell_type": "code",
      "source": [
        "import pandas as pd\n",
        "\n",
        "dataset= pd.read_csv(r'/content/drive/MyDrive/Colab Notebooks/Real estate.csv')\n",
        "dataset"
      ],
      "metadata": {
        "colab": {
          "base_uri": "https://localhost:8080/",
          "height": 423
        },
        "id": "giA9tpzXZH0y",
        "outputId": "29ec9b63-3be5-4490-c1ab-24c146e318dd"
      },
      "execution_count": null,
      "outputs": [
        {
          "output_type": "execute_result",
          "data": {
            "text/html": [
              "\n",
              "  <div id=\"df-88f2e7d2-26a7-4df1-afcf-d17ba82ab0f6\">\n",
              "    <div class=\"colab-df-container\">\n",
              "      <div>\n",
              "<style scoped>\n",
              "    .dataframe tbody tr th:only-of-type {\n",
              "        vertical-align: middle;\n",
              "    }\n",
              "\n",
              "    .dataframe tbody tr th {\n",
              "        vertical-align: top;\n",
              "    }\n",
              "\n",
              "    .dataframe thead th {\n",
              "        text-align: right;\n",
              "    }\n",
              "</style>\n",
              "<table border=\"1\" class=\"dataframe\">\n",
              "  <thead>\n",
              "    <tr style=\"text-align: right;\">\n",
              "      <th></th>\n",
              "      <th>No</th>\n",
              "      <th>X1 transaction date</th>\n",
              "      <th>X2 house age</th>\n",
              "      <th>X3 distance to the nearest MRT station</th>\n",
              "      <th>X4 number of convenience stores</th>\n",
              "      <th>X5 latitude</th>\n",
              "      <th>X6 longitude</th>\n",
              "      <th>Y house price of unit area</th>\n",
              "    </tr>\n",
              "  </thead>\n",
              "  <tbody>\n",
              "    <tr>\n",
              "      <th>0</th>\n",
              "      <td>1</td>\n",
              "      <td>2012.917</td>\n",
              "      <td>32.0</td>\n",
              "      <td>84.87882</td>\n",
              "      <td>10</td>\n",
              "      <td>24.98298</td>\n",
              "      <td>121.54024</td>\n",
              "      <td>37.9</td>\n",
              "    </tr>\n",
              "    <tr>\n",
              "      <th>1</th>\n",
              "      <td>2</td>\n",
              "      <td>2012.917</td>\n",
              "      <td>19.5</td>\n",
              "      <td>306.59470</td>\n",
              "      <td>9</td>\n",
              "      <td>24.98034</td>\n",
              "      <td>121.53951</td>\n",
              "      <td>42.2</td>\n",
              "    </tr>\n",
              "    <tr>\n",
              "      <th>2</th>\n",
              "      <td>3</td>\n",
              "      <td>2013.583</td>\n",
              "      <td>13.3</td>\n",
              "      <td>561.98450</td>\n",
              "      <td>5</td>\n",
              "      <td>24.98746</td>\n",
              "      <td>121.54391</td>\n",
              "      <td>47.3</td>\n",
              "    </tr>\n",
              "    <tr>\n",
              "      <th>3</th>\n",
              "      <td>4</td>\n",
              "      <td>2013.500</td>\n",
              "      <td>13.3</td>\n",
              "      <td>561.98450</td>\n",
              "      <td>5</td>\n",
              "      <td>24.98746</td>\n",
              "      <td>121.54391</td>\n",
              "      <td>54.8</td>\n",
              "    </tr>\n",
              "    <tr>\n",
              "      <th>4</th>\n",
              "      <td>5</td>\n",
              "      <td>2012.833</td>\n",
              "      <td>5.0</td>\n",
              "      <td>390.56840</td>\n",
              "      <td>5</td>\n",
              "      <td>24.97937</td>\n",
              "      <td>121.54245</td>\n",
              "      <td>43.1</td>\n",
              "    </tr>\n",
              "    <tr>\n",
              "      <th>...</th>\n",
              "      <td>...</td>\n",
              "      <td>...</td>\n",
              "      <td>...</td>\n",
              "      <td>...</td>\n",
              "      <td>...</td>\n",
              "      <td>...</td>\n",
              "      <td>...</td>\n",
              "      <td>...</td>\n",
              "    </tr>\n",
              "    <tr>\n",
              "      <th>409</th>\n",
              "      <td>410</td>\n",
              "      <td>2013.000</td>\n",
              "      <td>13.7</td>\n",
              "      <td>4082.01500</td>\n",
              "      <td>0</td>\n",
              "      <td>24.94155</td>\n",
              "      <td>121.50381</td>\n",
              "      <td>15.4</td>\n",
              "    </tr>\n",
              "    <tr>\n",
              "      <th>410</th>\n",
              "      <td>411</td>\n",
              "      <td>2012.667</td>\n",
              "      <td>5.6</td>\n",
              "      <td>90.45606</td>\n",
              "      <td>9</td>\n",
              "      <td>24.97433</td>\n",
              "      <td>121.54310</td>\n",
              "      <td>50.0</td>\n",
              "    </tr>\n",
              "    <tr>\n",
              "      <th>411</th>\n",
              "      <td>412</td>\n",
              "      <td>2013.250</td>\n",
              "      <td>18.8</td>\n",
              "      <td>390.96960</td>\n",
              "      <td>7</td>\n",
              "      <td>24.97923</td>\n",
              "      <td>121.53986</td>\n",
              "      <td>40.6</td>\n",
              "    </tr>\n",
              "    <tr>\n",
              "      <th>412</th>\n",
              "      <td>413</td>\n",
              "      <td>2013.000</td>\n",
              "      <td>8.1</td>\n",
              "      <td>104.81010</td>\n",
              "      <td>5</td>\n",
              "      <td>24.96674</td>\n",
              "      <td>121.54067</td>\n",
              "      <td>52.5</td>\n",
              "    </tr>\n",
              "    <tr>\n",
              "      <th>413</th>\n",
              "      <td>414</td>\n",
              "      <td>2013.500</td>\n",
              "      <td>6.5</td>\n",
              "      <td>90.45606</td>\n",
              "      <td>9</td>\n",
              "      <td>24.97433</td>\n",
              "      <td>121.54310</td>\n",
              "      <td>63.9</td>\n",
              "    </tr>\n",
              "  </tbody>\n",
              "</table>\n",
              "<p>414 rows × 8 columns</p>\n",
              "</div>\n",
              "      <button class=\"colab-df-convert\" onclick=\"convertToInteractive('df-88f2e7d2-26a7-4df1-afcf-d17ba82ab0f6')\"\n",
              "              title=\"Convert this dataframe to an interactive table.\"\n",
              "              style=\"display:none;\">\n",
              "        \n",
              "  <svg xmlns=\"http://www.w3.org/2000/svg\" height=\"24px\"viewBox=\"0 0 24 24\"\n",
              "       width=\"24px\">\n",
              "    <path d=\"M0 0h24v24H0V0z\" fill=\"none\"/>\n",
              "    <path d=\"M18.56 5.44l.94 2.06.94-2.06 2.06-.94-2.06-.94-.94-2.06-.94 2.06-2.06.94zm-11 1L8.5 8.5l.94-2.06 2.06-.94-2.06-.94L8.5 2.5l-.94 2.06-2.06.94zm10 10l.94 2.06.94-2.06 2.06-.94-2.06-.94-.94-2.06-.94 2.06-2.06.94z\"/><path d=\"M17.41 7.96l-1.37-1.37c-.4-.4-.92-.59-1.43-.59-.52 0-1.04.2-1.43.59L10.3 9.45l-7.72 7.72c-.78.78-.78 2.05 0 2.83L4 21.41c.39.39.9.59 1.41.59.51 0 1.02-.2 1.41-.59l7.78-7.78 2.81-2.81c.8-.78.8-2.07 0-2.86zM5.41 20L4 18.59l7.72-7.72 1.47 1.35L5.41 20z\"/>\n",
              "  </svg>\n",
              "      </button>\n",
              "      \n",
              "  <style>\n",
              "    .colab-df-container {\n",
              "      display:flex;\n",
              "      flex-wrap:wrap;\n",
              "      gap: 12px;\n",
              "    }\n",
              "\n",
              "    .colab-df-convert {\n",
              "      background-color: #E8F0FE;\n",
              "      border: none;\n",
              "      border-radius: 50%;\n",
              "      cursor: pointer;\n",
              "      display: none;\n",
              "      fill: #1967D2;\n",
              "      height: 32px;\n",
              "      padding: 0 0 0 0;\n",
              "      width: 32px;\n",
              "    }\n",
              "\n",
              "    .colab-df-convert:hover {\n",
              "      background-color: #E2EBFA;\n",
              "      box-shadow: 0px 1px 2px rgba(60, 64, 67, 0.3), 0px 1px 3px 1px rgba(60, 64, 67, 0.15);\n",
              "      fill: #174EA6;\n",
              "    }\n",
              "\n",
              "    [theme=dark] .colab-df-convert {\n",
              "      background-color: #3B4455;\n",
              "      fill: #D2E3FC;\n",
              "    }\n",
              "\n",
              "    [theme=dark] .colab-df-convert:hover {\n",
              "      background-color: #434B5C;\n",
              "      box-shadow: 0px 1px 3px 1px rgba(0, 0, 0, 0.15);\n",
              "      filter: drop-shadow(0px 1px 2px rgba(0, 0, 0, 0.3));\n",
              "      fill: #FFFFFF;\n",
              "    }\n",
              "  </style>\n",
              "\n",
              "      <script>\n",
              "        const buttonEl =\n",
              "          document.querySelector('#df-88f2e7d2-26a7-4df1-afcf-d17ba82ab0f6 button.colab-df-convert');\n",
              "        buttonEl.style.display =\n",
              "          google.colab.kernel.accessAllowed ? 'block' : 'none';\n",
              "\n",
              "        async function convertToInteractive(key) {\n",
              "          const element = document.querySelector('#df-88f2e7d2-26a7-4df1-afcf-d17ba82ab0f6');\n",
              "          const dataTable =\n",
              "            await google.colab.kernel.invokeFunction('convertToInteractive',\n",
              "                                                     [key], {});\n",
              "          if (!dataTable) return;\n",
              "\n",
              "          const docLinkHtml = 'Like what you see? Visit the ' +\n",
              "            '<a target=\"_blank\" href=https://colab.research.google.com/notebooks/data_table.ipynb>data table notebook</a>'\n",
              "            + ' to learn more about interactive tables.';\n",
              "          element.innerHTML = '';\n",
              "          dataTable['output_type'] = 'display_data';\n",
              "          await google.colab.output.renderOutput(dataTable, element);\n",
              "          const docLink = document.createElement('div');\n",
              "          docLink.innerHTML = docLinkHtml;\n",
              "          element.appendChild(docLink);\n",
              "        }\n",
              "      </script>\n",
              "    </div>\n",
              "  </div>\n",
              "  "
            ],
            "text/plain": [
              "      No  X1 transaction date  ...  X6 longitude  Y house price of unit area\n",
              "0      1             2012.917  ...     121.54024                        37.9\n",
              "1      2             2012.917  ...     121.53951                        42.2\n",
              "2      3             2013.583  ...     121.54391                        47.3\n",
              "3      4             2013.500  ...     121.54391                        54.8\n",
              "4      5             2012.833  ...     121.54245                        43.1\n",
              "..   ...                  ...  ...           ...                         ...\n",
              "409  410             2013.000  ...     121.50381                        15.4\n",
              "410  411             2012.667  ...     121.54310                        50.0\n",
              "411  412             2013.250  ...     121.53986                        40.6\n",
              "412  413             2013.000  ...     121.54067                        52.5\n",
              "413  414             2013.500  ...     121.54310                        63.9\n",
              "\n",
              "[414 rows x 8 columns]"
            ]
          },
          "metadata": {},
          "execution_count": 130
        }
      ]
    },
    {
      "cell_type": "code",
      "source": [
        "from sklearn.linear_model import LinearRegression\n",
        "\n",
        "model = LinearRegression()"
      ],
      "metadata": {
        "id": "was1nMrxG3Mk"
      },
      "execution_count": null,
      "outputs": []
    },
    {
      "cell_type": "code",
      "source": [
        "X = dataset[['X1 transaction date', 'X2 house age','X3 distance to the nearest MRT station','X4 number of convenience stores','X5 latitude','X6 longitude']]\n",
        "y = dataset['Y house price of unit area']"
      ],
      "metadata": {
        "id": "stF4LjS4G5Qa"
      },
      "execution_count": null,
      "outputs": []
    },
    {
      "cell_type": "code",
      "source": [
        "from sklearn.model_selection import train_test_split\n",
        "X_train, X_test, y_train, y_test = train_test_split(X, y, shuffle=True, train_size=0.3)"
      ],
      "metadata": {
        "id": "UfAbsapkHoOV"
      },
      "execution_count": null,
      "outputs": []
    },
    {
      "cell_type": "code",
      "source": [
        "multi_model = LinearRegression()\n",
        "multi_model.fit(X_train, y_train)"
      ],
      "metadata": {
        "colab": {
          "base_uri": "https://localhost:8080/"
        },
        "id": "QhGf_0R-IKyn",
        "outputId": "b6ee92ef-9a92-45ef-9578-f5b6feea1127"
      },
      "execution_count": null,
      "outputs": [
        {
          "output_type": "execute_result",
          "data": {
            "text/plain": [
              "LinearRegression()"
            ]
          },
          "metadata": {},
          "execution_count": 134
        }
      ]
    },
    {
      "cell_type": "code",
      "source": [
        "from sklearn.metrics import r2_score\n",
        "from sklearn.metrics import mean_squared_error\n",
        "\n",
        "predictions = multi_model.predict(X_test)\n",
        "r2 = r2_score(y_test, predictions)\n",
        "rmse = mean_squared_error(y_test, predictions, squared=False)\n",
        "\n",
        "print('The r2 is: ', r2)\n",
        "print('The rmse is: ', rmse)"
      ],
      "metadata": {
        "colab": {
          "base_uri": "https://localhost:8080/"
        },
        "id": "dsHKO3ytIPp4",
        "outputId": "b655fc72-f1f0-4a9c-907e-b2c7a014165d"
      },
      "execution_count": null,
      "outputs": [
        {
          "output_type": "stream",
          "name": "stdout",
          "text": [
            "The r2 is:  0.5312491057389026\n",
            "The rmse is:  9.334773756682019\n"
          ]
        }
      ]
    },
    {
      "cell_type": "code",
      "source": [
        "coefficients = multi_model.coef_\n",
        "intercept = multi_model.intercept_\n",
        "def calculate_house_price(X1, X2, X3, X4,X5,X6):\n",
        "  return (X1 * coefficients[0]) + (X2 * coefficients[1]) + (X3 * coefficients[2]) + (X4 * coefficients[3]) + (X5 * coefficients[4])+ (X6 * coefficients[5]) + intercept"
      ],
      "metadata": {
        "id": "JxQAn8y5JBPo"
      },
      "execution_count": null,
      "outputs": []
    },
    {
      "cell_type": "code",
      "source": [
        "print(calculate_house_price(2013.56, 4, 120,4,24.4563,124.9743))"
      ],
      "metadata": {
        "id": "L5x0N5NbJrH-",
        "colab": {
          "base_uri": "https://localhost:8080/"
        },
        "outputId": "a687b6d6-ef15-4a1a-d047-b6bd130fc79e"
      },
      "execution_count": null,
      "outputs": [
        {
          "output_type": "stream",
          "name": "stdout",
          "text": [
            "197.19588697703148\n"
          ]
        }
      ]
    }
  ]
}